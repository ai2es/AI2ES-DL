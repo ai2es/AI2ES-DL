{
 "cells": [
  {
   "cell_type": "markdown",
   "id": "6ba8f4b3-d0fe-452f-aade-9cbde3da9aca",
   "metadata": {},
   "source": [
    "### Train partial models and combine them by freezing layers partially and then adding them together."
   ]
  },
  {
   "cell_type": "code",
   "execution_count": 57,
   "id": "5a12a646-b616-4509-9262-b4c1c08fe779",
   "metadata": {},
   "outputs": [],
   "source": [
    "import tensorflow as tf\n",
    "import numpy as np\n",
    "from itertools import product\n",
    "\n",
    "class PartialFreeze(tf.keras.layers.Layer):\n",
    "    def __init__(self, axis=None, cut=None):\n",
    "        \"\"\"\n",
    "        Partially freezes the layer by eliminating the gradients from certain layers achieved by multiplying outputs by zero.\n",
    "        \n",
    "        :param axis: axis or axes along which to weight outputs by zero\n",
    "        :param cut: tuple (start, end) or tuple of tuples for each axis indicies to mask\n",
    "        \"\"\"\n",
    "        super().__init__()\n",
    "        self.axis = axis\n",
    "        self.cut = cut\n",
    "        self.mask = None\n",
    "        \n",
    "        if isinstance(self.cut[0], int):\n",
    "            self.cut = (cut,)\n",
    "            self.axis = (axis,)\n",
    "\n",
    "    def build(self, input_shape):\n",
    "        # build the mask along the axes\n",
    "        shape = input_shape[1:]\n",
    "        print(shape)\n",
    "        self.mask = np.zeros(input_shape[1:])\n",
    "        print(self.mask.shape)\n",
    "        \n",
    "        cuts = [slice(*cut) for cut in self.cut]\n",
    "        axes = list(self.axis)\n",
    "        \n",
    "        axes_cuts = {axis: cut for axis, cut in zip(axes, cuts)}\n",
    "        \n",
    "        slice_list = [range(shape[i]) if i not in axes else range(shape[i])[axes_cuts[i]] for i in range(len(input_shape[1:]))]\n",
    "        slice_list = [list(i) for i in slice_list]\n",
    "\n",
    "        for indicies in product(*slice_list):\n",
    "            self.mask.__setitem__(indicies, 1.0)\n",
    "\n",
    "    def call(self, x, training=None):\n",
    "        if training:\n",
    "            # need to incur the performance benefit of a partial freeze\n",
    "            x = x * self.mask\n",
    "        else:\n",
    "            # do not need to incur the performance benefit of a partial freeze (I neva freeze)\n",
    "            pass\n",
    "\n",
    "        return x\n",
    "\n",
    "    def get_config(self):\n",
    "        return {\"axis\": self.axis, \"cut\": self.cut}"
   ]
  },
  {
   "cell_type": "code",
   "execution_count": 60,
   "id": "fdae9297-330c-40a2-bb74-8e8a4fcfb289",
   "metadata": {},
   "outputs": [
    {
     "name": "stdout",
     "output_type": "stream",
     "text": [
      "(8, 8)\n",
      "(8, 8)\n",
      "[[1. 1. 1. 0. 0. 0. 0. 0.]\n",
      " [1. 1. 1. 0. 0. 0. 0. 0.]\n",
      " [1. 1. 1. 0. 0. 0. 0. 0.]\n",
      " [1. 1. 1. 0. 0. 0. 0. 0.]\n",
      " [0. 0. 0. 0. 0. 0. 0. 0.]\n",
      " [0. 0. 0. 0. 0. 0. 0. 0.]\n",
      " [0. 0. 0. 0. 0. 0. 0. 0.]\n",
      " [0. 0. 0. 0. 0. 0. 0. 0.]] (8, 8)\n"
     ]
    }
   ],
   "source": [
    "from tensorflow.keras.layers import *\n",
    "\n",
    "partial = PartialFreeze(cut=((0, 4), (0, 3)), axis=(0, 1))\n",
    "\n",
    "x = Input((8, 8))\n",
    "x = partial(x)\n",
    "\n",
    "print(partial.mask, partial.mask.shape)"
   ]
  },
  {
   "cell_type": "code",
   "execution_count": null,
   "id": "bde48b9a-3b71-487e-8dc9-d6887da5e096",
   "metadata": {},
   "outputs": [],
   "source": []
  }
 ],
 "metadata": {
  "kernelspec": {
   "display_name": "Python 3 (ipykernel)",
   "language": "python",
   "name": "python3"
  },
  "language_info": {
   "codemirror_mode": {
    "name": "ipython",
    "version": 3
   },
   "file_extension": ".py",
   "mimetype": "text/x-python",
   "name": "python",
   "nbconvert_exporter": "python",
   "pygments_lexer": "ipython3",
   "version": "3.10.8"
  }
 },
 "nbformat": 4,
 "nbformat_minor": 5
}
